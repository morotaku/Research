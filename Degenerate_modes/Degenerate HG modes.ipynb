{
 "cells": [
  {
   "cell_type": "code",
   "execution_count": 2,
   "metadata": {},
   "outputs": [
    {
     "name": "stdout",
     "output_type": "stream",
     "text": [
      "position: 1\n",
      "4.908738521234052\n"
     ]
    },
    {
     "data": {
      "image/png": "[encoded data removed]",
      "text/plain": [
       "<Figure size 216x216 with 1 Axes>"
      ]
     },
     "metadata": {
      "needs_background": "light"
     },
     "output_type": "display_data"
    }
   ],
   "source": [
    "from math import *\n",
    "import numpy as np\n",
    "from scipy.special import *\n",
    "import matplotlib.pyplot as plt\n",
    "import matplotlib as mlp\n",
    "from matplotlib.colors import LinearSegmentedColormap\n",
    "\n",
    "#Transverse mode index \n",
    "n1=26\n",
    "n2=30 \n",
    "n3=34 \n",
    "n4=38 \n",
    "n5=42 \n",
    "n6=1\n",
    "n7=1\n",
    "n8=1 \n",
    "n9=1 \n",
    "n10=1 \n",
    "n=[n1,n2,n3,n4,n5,n6,n7,n8,n9,n10]\n",
    "\n",
    "m1=2\n",
    "m2=2 \n",
    "m3=2 \n",
    "m4=2 \n",
    "m5=2 \n",
    "m6=0 \n",
    "m7=0 \n",
    "m8=0 \n",
    "m9=0 \n",
    "m10=0 \n",
    "m=[m1,m2,m3,m4,m5,m6,m7,m8,m9,m10]\n",
    "\n",
    "#Parameters \n",
    "w=1#Beam waist \n",
    "lam=0.64 #Wave length \n",
    "k=2*np.pi/lam #Wave number \n",
    "zr=w**2*k/2 #Rayleigh length \n",
    "z=float(input('position: ')) #Beam position \n",
    "R=z+zr**2/z #Radius curvature of beam \n",
    "W=w*(1+(z/zr)**2)**0.5 #Beam size \n",
    "gouy=np.arctan(z/zr) #Gouy phase \n",
    "q=(1j)*zr #Complex beam parameter \n",
    "Q=z+q\n",
    "\n",
    "#Definition of coodinate \n",
    "N=1000 \n",
    "Ran=10 #Display range \n",
    "x=np.linspace(-Ran,Ran,N) \n",
    "y=np.linspace(-Ran,Ran,N) \n",
    "X,Y=np.meshgrid(x,y)\n",
    "\n",
    "#Definition of Hermite Polynomial \n",
    "def Hermite(n,X): \n",
    "    Hn=0 \n",
    "    for i in range(0,floor(n/2)+1):\n",
    "        Hn += (-1)**i*(2*X)**(n-2*i)/(factorial(i)*factorial(n-2*i)) \n",
    "    Hn=Hn*factorial(n) \n",
    "    return Hn\n",
    "\n",
    "#Definition of HG mode \n",
    "def HermiteGaussian(n,m,X,Y,z):\n",
    "    u_n=((2/np.pi)**(1/4))*np.sqrt(1/(2**n*factorial(n)*w))*np.sqrt(q/Q)*(((q*Q.conjugate())/(q.conjugate()*Q))**(n/2))*Hermite(n,(np.sqrt(2)*X/W))*np.exp((-1j*k*X**2)/(2*Q)) \n",
    "    u_m=((2/np.pi)**(1/4))*np.sqrt(1/(2**m*factorial(m)*w))*np.sqrt(q/Q)*(((q*Q.conjugate())/(q.conjugate()*Q))**(m/2))*Hermite(m,(np.sqrt(2)*Y/W))*np.exp((-1j*k*Y**2)/(2*Q)) \n",
    "    u=u_n*u_m \n",
    "    umax=np.amax(u) \n",
    "    u_n=u/umax \n",
    "    return u_n\n",
    "\n",
    "HG=[0]*10 \n",
    "for i in range(10): \n",
    "    HG[i] = HermiteGaussian(n[i],m[i],X,Y,z)\n",
    "\n",
    "#Surperposiotion of HG modes \n",
    "A=5\n",
    "HGsup=0 \n",
    "for i in range(A): \n",
    "    HGsup += HG[i]\n",
    "\n",
    "#HG intensity \n",
    "I = np.real(HGsup*HGsup.conjugate()) \n",
    "Imax = np.amax(I) \n",
    "I_n = I/Imax\n",
    "\n",
    "\n",
    "#Plot \n",
    "rb = LinearSegmentedColormap.from_list('name', ['white', 'red'])\n",
    "fig = plt.figure(figsize=(3,3)) \n",
    "ax = fig.add_subplot(111) \n",
    "im=plt.imshow(I_n,vmax=0.8,vmin=0,cmap=rb) \n",
    "#im=plt.imshow(LGa,extent=(-1,1,-1,1),cmap='rainbow') \n",
    "ax.set_axis_off() #軸off\n",
    "\n",
    "\n",
    "print('zr= ',zr)\n",
    "#Saving figure \n",
    "save_path='C:/Users/maila/OneDrive/デスクトップ/保存先/HGz=0.png' \n",
    "#plt.savefig(save_path)"
   ]
  }
 ],
 "metadata": {
  "kernelspec": {
   "display_name": "Python 3",
   "language": "python",
   "name": "python3"
  },
  "language_info": {
   "codemirror_mode": {
    "name": "ipython",
    "version": 3
   },
   "file_extension": ".py",
   "mimetype": "text/x-python",
   "name": "python",
   "nbconvert_exporter": "python",
   "pygments_lexer": "ipython3",
   "version": "3.8.5"
  }
 },
 "nbformat": 4,
 "nbformat_minor": 4
}
