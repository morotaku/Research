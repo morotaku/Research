{
 "cells": [
  {
   "cell_type": "code",
   "execution_count": 14,
   "metadata": {},
   "outputs": [
    {
     "name": "stdout",
     "output_type": "stream",
     "text": [
      "position: 1\n",
      "zr= 4.908738521234052\n"
     ]
    },
    {
     "data": {
      "image/png": "[encoded data removed]",
      "text/plain": [
       "<Figure size 216x216 with 1 Axes>"
      ]
     },
     "metadata": {
      "needs_background": "light"
     },
     "output_type": "display_data"
    }
   ],
   "source": [
    "#### Circular geometrical mode\n",
    "from math import *\n",
    "import numpy as np\n",
    "from scipy.special import *\n",
    "import matplotlib.pyplot as plt\n",
    "import matplotlib as mlp\n",
    "from matplotlib.colors import LinearSegmentedColormap\n",
    "\n",
    "#Radial index\n",
    "l1=1\n",
    "l2=-l1\n",
    "l3=27\n",
    "l4=-l3\n",
    "l5=31\n",
    "l6=-l5\n",
    "l7=35\n",
    "l8=-l7\n",
    "l9=39\n",
    "l10=-l9\n",
    "l=np.array([l1,l2,l3,l4,l5,l6,l7,l8,l9,l10])\n",
    "\n",
    "#Azimuth index\n",
    "p1=0\n",
    "p2=3\n",
    "p3=3\n",
    "p4=3\n",
    "p5=3\n",
    "p6=3\n",
    "p7=3\n",
    "p8=3\n",
    "p9=3\n",
    "p10=3\n",
    "p=np.array([p1,p2,p3,p4,p5,p6,p7,p8,p9,p10])\n",
    "\n",
    "#Parameters\n",
    "w=1 #ビームウェスト\n",
    "lam=0.64 #波長\n",
    "k=2*np.pi/lam #波数\n",
    "zr=w**2*k/2 #レイリー長\n",
    "z=float(input('position: ')) #z座標 \n",
    "R=z+zr**2/z #曲率半径\n",
    "W=w*(1+(z/zr)**2)**0.5 #ビーム径\n",
    "#Z=z/zr\n",
    "\n",
    "print(\"zr=\",zr)\n",
    "\n",
    "\n",
    "#x-y　coordinate\n",
    "N=1000\n",
    "L=8 #表示範囲\n",
    "X=np.linspace(-L,L,N)\n",
    "Y=np.linspace(-L,L,N)\n",
    "x,y=np.meshgrid(X,Y)\n",
    "#Polar coodinate\n",
    "r=np.sqrt(x**2+y**2)\n",
    "phi=np.arctan2(y,x)\n",
    "\n",
    "#Definition of Laguerre polynominal\n",
    "def Laguerre(p,l,x):#p<l\n",
    "    Lag=0\n",
    "    for k in range(0,p+1):\n",
    "        Lag += (-1)**(k+abs(l))*((factorial(p+abs(l))**2*x**k)/(factorial(k)*factorial(k+abs(l))*factorial(p-k)))\n",
    "    return Lag\n",
    "\n",
    "\n",
    "#Definition of Laguerre Gaussian Mode\n",
    "def LaguerreGaussianMode(p,l,rad):\n",
    "    C=(2*factorial(p)/(np.pi*factorial(p+abs(l))))**0.5\n",
    "    Gouy=-1j*(-(l*phi)-((2*p+abs(l)+1)*np.arctan(z/zr))+k*(rad**2/(2*R))+k*z)\n",
    "    LG=C/W*(2**0.5*rad/W)**abs(l)*Laguerre(p, l, 2*rad**2/W**2)*np.exp((-1)*rad**2/W**2)#*np.exp(Gouy)\n",
    "    #LGmax=np.amax(LG)\n",
    "    #LG_n=LG/LGmax\n",
    "    #return LG_n\n",
    "    return LG\n",
    "\n",
    "LG=[0]*10\n",
    "for i in (0,2,4,6,8):\n",
    "    LG[i]=LaguerreGaussianMode(p[i],l[i],r)\n",
    "\n",
    "\n",
    "\n",
    "#Mode superposition \n",
    "X=10#The number of mode\n",
    "LGpl=0\n",
    "for i in range(1):\n",
    "    LGpl +=LG[i]\n",
    "\n",
    "\n",
    "\n",
    "LG=np.real(LGpl*LGpl.conjugate())\n",
    "LG_a=np.angle(LGpl)/np.amax(np.angle(LGpl))\n",
    "LGmax=np.amax(LG)\n",
    "LG_n=LG/LGmax\n",
    "\n",
    "#Plot\n",
    "rb = LinearSegmentedColormap.from_list('name', ['white', 'red'])\n",
    "fig = plt.figure(figsize=(3,3))\n",
    "ax = fig.add_subplot(111)\n",
    "im=plt.imshow(LG_n,vmax=1,vmin=0,extent=(-1,1,-1,1),cmap='hot')\n",
    "#im=plt.imshow(LGa,extent=(-1,1,-1,1),cmap='rainbow')\n",
    "ax.set_axis_off() #軸off\n",
    "\n",
    "#Save figure\n",
    "saving=\"C:/Users/maila/OneDrive/デスクトップ/保存先/LG1.png\"\n",
    "#plt.savefig(saving)"
   ]
  }
 ],
 "metadata": {
  "kernelspec": {
   "display_name": "Python 3",
   "language": "python",
   "name": "python3"
  },
  "language_info": {
   "codemirror_mode": {
    "name": "ipython",
    "version": 3
   },
   "file_extension": ".py",
   "mimetype": "text/x-python",
   "name": "python",
   "nbconvert_exporter": "python",
   "pygments_lexer": "ipython3",
   "version": "3.8.5"
  }
 },
 "nbformat": 4,
 "nbformat_minor": 4
}
